{
 "cells": [
  {
   "cell_type": "markdown",
   "metadata": {},
   "source": [
    "# Hauptkomponentenanalyse - Principal Component Analysis (PCA)\n",
    "\n",
    "## Introduction\n",
    "Das Ziel der PCA ist, Muster in Daten zu identifizieren. Die PCA zielt darauf ab, die Korrelation zwischen Variablen zu ermitteln. Die Intention, die Dimensionalität zu reduzieren, ist nur dann sinnvoll, wenn eine starke Korrelation zwischen Variablen besteht.\n",
    "\n",
    "Kurz gesagt, bei der PCA geht es um folgendes: Ermittlung der Richtungen mit der maximalen Varianz in hochdimensionalen Daten und eine anschließende Projektion auf einen kleineren dimensionalen Unterraum, während die meisten Informationen behalten werden.\n",
    "\n",
    "## PCA and Dimensionsreduktion\n",
    "Häufig besteht das gewünschte Ziel darin, die Dimensionen eines d-dimensionalen Datensatzes zu reduzieren, indem er auf einen (k)-dimensionalen Unterraum projiziert wird (wobei k <d ist), um die Recheneffizienz zu erhöhen und gleichzeitig den größten Teil der Informationen beizubehalten.\n",
    "\n",
    "## Eine Zusammenfassung des PCA-Ansatzes\n",
    "* Ermittlung der Eigenvektoren (Eigenvectors) und Eigenwerte (Eigenvalues) anhand Kovarianzmatrix <br>\n",
    "* Sortierung der Eigenwerte in absteigender Reihenfolge und Auswahl der k Eigenvektoren, die den k größten Eigenwerten entsprechen, wobei k die Anzahl der Dimensionen des neuen Merkmalsunterraums ist (k <= d).\n",
    "* Konstruktion der Projektionsmatrix <b>W</b> aus den ausgewählten k Eigenvektoren.\n",
    "* Transformierung des ursprünglichen Datensatzes <b>X </b> über <b>W</b>, um einen k-dimensionalen Merkmalsunterraum <b>Y</b> zu erhalten.\n",
    "\n",
    "## Iris Datensatz\n",
    "\n",
    "Für die anstehende Aufgabe wird der bereits bekannte Iris-Datensatz verwendet.\n",
    "\n",
    "<img src=\"./Figures/Iris-Datensammlung.png\" alt=\"drawing\" style=\"width:400px;\"/>"
   ]
  },
  {
   "cell_type": "markdown",
   "metadata": {},
   "source": [
    "## Datensatz einlesen\n",
    "\n",
    "Lesen Sie den Iris-Datensatz aus dem Verzeichnis /Data ein. Speichern Sie hierbei die numerischen Werte und die Class labels in unterschiedlichen Variablen."
   ]
  },
  {
   "cell_type": "code",
   "execution_count": 59,
   "metadata": {},
   "outputs": [
    {
     "name": "stdout",
     "output_type": "stream",
     "text": [
      "[[5.1 3.5 1.4 0.2]\n",
      " [4.9 3.0 1.4 0.2]\n",
      " [4.7 3.2 1.3 0.2]\n",
      " [4.6 3.1 1.5 0.2]\n",
      " [5.0 3.6 1.4 0.2]\n",
      " [5.4 3.9 1.7 0.4]\n",
      " [4.6 3.4 1.4 0.3]\n",
      " [5.0 3.4 1.5 0.2]\n",
      " [4.4 2.9 1.4 0.2]\n",
      " [4.9 3.1 1.5 0.1]\n",
      " [5.4 3.7 1.5 0.2]\n",
      " [4.8 3.4 1.6 0.2]\n",
      " [4.8 3.0 1.4 0.1]\n",
      " [4.3 3.0 1.1 0.1]\n",
      " [5.8 4.0 1.2 0.2]\n",
      " [5.7 4.4 1.5 0.4]\n",
      " [5.4 3.9 1.3 0.4]\n",
      " [5.1 3.5 1.4 0.3]\n",
      " [5.7 3.8 1.7 0.3]\n",
      " [5.1 3.8 1.5 0.3]\n",
      " [5.4 3.4 1.7 0.2]\n",
      " [5.1 3.7 1.5 0.4]\n",
      " [4.6 3.6 1.0 0.2]\n",
      " [5.1 3.3 1.7 0.5]\n",
      " [4.8 3.4 1.9 0.2]\n",
      " [5.0 3.0 1.6 0.2]\n",
      " [5.0 3.4 1.6 0.4]\n",
      " [5.2 3.5 1.5 0.2]\n",
      " [5.2 3.4 1.4 0.2]\n",
      " [4.7 3.2 1.6 0.2]\n",
      " [4.8 3.1 1.6 0.2]\n",
      " [5.4 3.4 1.5 0.4]\n",
      " [5.2 4.1 1.5 0.1]\n",
      " [5.5 4.2 1.4 0.2]\n",
      " [4.9 3.1 1.5 0.1]\n",
      " [5.0 3.2 1.2 0.2]\n",
      " [5.5 3.5 1.3 0.2]\n",
      " [4.9 3.1 1.5 0.1]\n",
      " [4.4 3.0 1.3 0.2]\n",
      " [5.1 3.4 1.5 0.2]\n",
      " [5.0 3.5 1.3 0.3]\n",
      " [4.5 2.3 1.3 0.3]\n",
      " [4.4 3.2 1.3 0.2]\n",
      " [5.0 3.5 1.6 0.6]\n",
      " [5.1 3.8 1.9 0.4]\n",
      " [4.8 3.0 1.4 0.3]\n",
      " [5.1 3.8 1.6 0.2]\n",
      " [4.6 3.2 1.4 0.2]\n",
      " [5.3 3.7 1.5 0.2]\n",
      " [5.0 3.3 1.4 0.2]\n",
      " [7.0 3.2 4.7 1.4]\n",
      " [6.4 3.2 4.5 1.5]\n",
      " [6.9 3.1 4.9 1.5]\n",
      " [5.5 2.3 4.0 1.3]\n",
      " [6.5 2.8 4.6 1.5]\n",
      " [5.7 2.8 4.5 1.3]\n",
      " [6.3 3.3 4.7 1.6]\n",
      " [4.9 2.4 3.3 1.0]\n",
      " [6.6 2.9 4.6 1.3]\n",
      " [5.2 2.7 3.9 1.4]\n",
      " [5.0 2.0 3.5 1.0]\n",
      " [5.9 3.0 4.2 1.5]\n",
      " [6.0 2.2 4.0 1.0]\n",
      " [6.1 2.9 4.7 1.4]\n",
      " [5.6 2.9 3.6 1.3]\n",
      " [6.7 3.1 4.4 1.4]\n",
      " [5.6 3.0 4.5 1.5]\n",
      " [5.8 2.7 4.1 1.0]\n",
      " [6.2 2.2 4.5 1.5]\n",
      " [5.6 2.5 3.9 1.1]\n",
      " [5.9 3.2 4.8 1.8]\n",
      " [6.1 2.8 4.0 1.3]\n",
      " [6.3 2.5 4.9 1.5]\n",
      " [6.1 2.8 4.7 1.2]\n",
      " [6.4 2.9 4.3 1.3]\n",
      " [6.6 3.0 4.4 1.4]\n",
      " [6.8 2.8 4.8 1.4]\n",
      " [6.7 3.0 5.0 1.7]\n",
      " [6.0 2.9 4.5 1.5]\n",
      " [5.7 2.6 3.5 1.0]\n",
      " [5.5 2.4 3.8 1.1]\n",
      " [5.5 2.4 3.7 1.0]\n",
      " [5.8 2.7 3.9 1.2]\n",
      " [6.0 2.7 5.1 1.6]\n",
      " [5.4 3.0 4.5 1.5]\n",
      " [6.0 3.4 4.5 1.6]\n",
      " [6.7 3.1 4.7 1.5]\n",
      " [6.3 2.3 4.4 1.3]\n",
      " [5.6 3.0 4.1 1.3]\n",
      " [5.5 2.5 4.0 1.3]\n",
      " [5.5 2.6 4.4 1.2]\n",
      " [6.1 3.0 4.6 1.4]\n",
      " [5.8 2.6 4.0 1.2]\n",
      " [5.0 2.3 3.3 1.0]\n",
      " [5.6 2.7 4.2 1.3]\n",
      " [5.7 3.0 4.2 1.2]\n",
      " [5.7 2.9 4.2 1.3]\n",
      " [6.2 2.9 4.3 1.3]\n",
      " [5.1 2.5 3.0 1.1]\n",
      " [5.7 2.8 4.1 1.3]\n",
      " [6.3 3.3 6.0 2.5]\n",
      " [5.8 2.7 5.1 1.9]\n",
      " [7.1 3.0 5.9 2.1]\n",
      " [6.3 2.9 5.6 1.8]\n",
      " [6.5 3.0 5.8 2.2]\n",
      " [7.6 3.0 6.6 2.1]\n",
      " [4.9 2.5 4.5 1.7]\n",
      " [7.3 2.9 6.3 1.8]\n",
      " [6.7 2.5 5.8 1.8]\n",
      " [7.2 3.6 6.1 2.5]\n",
      " [6.5 3.2 5.1 2.0]\n",
      " [6.4 2.7 5.3 1.9]\n",
      " [6.8 3.0 5.5 2.1]\n",
      " [5.7 2.5 5.0 2.0]\n",
      " [5.8 2.8 5.1 2.4]\n",
      " [6.4 3.2 5.3 2.3]\n",
      " [6.5 3.0 5.5 1.8]\n",
      " [7.7 3.8 6.7 2.2]\n",
      " [7.7 2.6 6.9 2.3]\n",
      " [6.0 2.2 5.0 1.5]\n",
      " [6.9 3.2 5.7 2.3]\n",
      " [5.6 2.8 4.9 2.0]\n",
      " [7.7 2.8 6.7 2.0]\n",
      " [6.3 2.7 4.9 1.8]\n",
      " [6.7 3.3 5.7 2.1]\n",
      " [7.2 3.2 6.0 1.8]\n",
      " [6.2 2.8 4.8 1.8]\n",
      " [6.1 3.0 4.9 1.8]\n",
      " [6.4 2.8 5.6 2.1]\n",
      " [7.2 3.0 5.8 1.6]\n",
      " [7.4 2.8 6.1 1.9]\n",
      " [7.9 3.8 6.4 2.0]\n",
      " [6.4 2.8 5.6 2.2]\n",
      " [6.3 2.8 5.1 1.5]\n",
      " [6.1 2.6 5.6 1.4]\n",
      " [7.7 3.0 6.1 2.3]\n",
      " [6.3 3.4 5.6 2.4]\n",
      " [6.4 3.1 5.5 1.8]\n",
      " [6.0 3.0 4.8 1.8]\n",
      " [6.9 3.1 5.4 2.1]\n",
      " [6.7 3.1 5.6 2.4]\n",
      " [6.9 3.1 5.1 2.3]\n",
      " [5.8 2.7 5.1 1.9]\n",
      " [6.8 3.2 5.9 2.3]\n",
      " [6.7 3.3 5.7 2.5]\n",
      " [6.7 3.0 5.2 2.3]\n",
      " [6.3 2.5 5.0 1.9]\n",
      " [6.5 3.0 5.2 2.0]\n",
      " [6.2 3.4 5.4 2.3]\n",
      " [5.9 3.0 5.1 1.8]]\n"
     ]
    }
   ],
   "source": [
    "# TODO: implement\n",
    "import pandas as pd\n",
    "import numpy as np \n",
    "import matplotlib.pyplot as plt\n",
    "\n",
    "df = pd.read_csv(\"./Data/iris.data\", header=None, sep=\",\")\n",
    "df_withoutLabels = df.values #Numpy-Array; Alternative: df.to_numpy()\n",
    "y= df_withoutLabels[:, 4] #class-labels \n",
    "#print(y)\n",
    "X= df_withoutLabels[:, 0:4] # numerische Werte\n",
    "print(X)"
   ]
  },
  {
   "cell_type": "markdown",
   "metadata": {},
   "source": [
    "Der Iris-Datensatz ist jetzt in Form einer 150$\\times$4-Matrix gespeichert, in der die Spalten die verschiedenen Merkmale darstellen und jede Zeile eine separate Blumenprobe darstellt. Jedes Sample <b>x</b> kann als 4-dimensionaler Vektor dargestellt werden"
   ]
  },
  {
   "cell_type": "code",
   "execution_count": 62,
   "metadata": {},
   "outputs": [
    {
     "data": {
      "text/plain": [
       "(150, 4)"
      ]
     },
     "execution_count": 62,
     "metadata": {},
     "output_type": "execute_result"
    }
   ],
   "source": [
    "X.shape"
   ]
  },
  {
   "cell_type": "code",
   "execution_count": 63,
   "metadata": {},
   "outputs": [
    {
     "data": {
      "text/plain": [
       "array([[5.1, 3.5, 1.4, 0.2],\n",
       "       [4.9, 3.0, 1.4, 0.2],\n",
       "       [4.7, 3.2, 1.3, 0.2],\n",
       "       [4.6, 3.1, 1.5, 0.2],\n",
       "       [5.0, 3.6, 1.4, 0.2],\n",
       "       [5.4, 3.9, 1.7, 0.4],\n",
       "       [4.6, 3.4, 1.4, 0.3],\n",
       "       [5.0, 3.4, 1.5, 0.2],\n",
       "       [4.4, 2.9, 1.4, 0.2],\n",
       "       [4.9, 3.1, 1.5, 0.1]], dtype=object)"
      ]
     },
     "execution_count": 63,
     "metadata": {},
     "output_type": "execute_result"
    }
   ],
   "source": [
    "X[0:10]"
   ]
  },
  {
   "cell_type": "markdown",
   "metadata": {},
   "source": [
    "## Visualisierung\n",
    "\n",
    "Die Daten (3 verschiedene Blumenklassen befinden sich entlang der 4 verschiedenen Merkmale) lassen sich über Histogramme wiefolgt visualisieren."
   ]
  },
  {
   "cell_type": "markdown",
   "metadata": {},
   "source": [
    "Figure:\n",
    "<img src=\"./Figures/Exploratory-Visualization.png\" alt=\"drawing\" style=\"width:400px;\"/>"
   ]
  },
  {
   "cell_type": "markdown",
   "metadata": {},
   "source": [
    "# 1 - Berechnung der Kovarianzmatrix"
   ]
  },
  {
   "cell_type": "markdown",
   "metadata": {},
   "source": [
    "Die Eigenvektoren und Eigenwerte einer Kovarianzmatrix bilden den „Kern“ einer PCA: Die Eigenvektoren (Hauptkomponenten) bestimmen die Richtungen des neuen Merkmalsraums, und die Eigenwerte bestimmen ihre Größe. Mit anderen Worten, die Eigenwerte erklären die Varianz der Daten entlang der neuen Merkmalsachsen.\n",
    "\n",
    "## Kovarianzmatrix C\n",
    "Die Herangehensweise der PCA besteht darin, die Eigendekomposition anhand der Kovarianzmatrix $\\Sigma$ vorzunehmen. Diese ist ein d$\\times$d-Matrix, bei der jedes Element die Kovarianz zwischen zwei Merkmalen darstellt. Die Kovarianz zwischen zwei Merkmalen wird wie folgt berechnet:\n",
    "\n",
    "$\\sigma_{jk} = \\frac{1}{n-1}\\sum_{i=1}^{n}\\left(  x_{ij}-\\bar{x}_j \\right)  \\left( x_{ik}-\\bar{x}_k \\right).$\n",
    "\n",
    "Die Berechnung der Kovarianzmatrix wird über die folgende Matrixgleichung zusammengefasst:\n",
    "$\\Sigma = \\frac{1}{n-1} \\left( (\\mathbf{X} - \\mathbf{\\bar{x}})^T\\;(\\mathbf{X} - \\mathbf{\\bar{x}}) \\right)$\n",
    "\n",
    "mit $\\bar{x}$ als Mittelwertvektor $\\mathbf{\\bar{x}} = \\frac{1}{n} \\sum\\limits_{i=1}^n x_{i}.$\n",
    "\n",
    "Der Mittelwertvektor (mean vector) ist ein d-dimensionaler Vektor, bei dem jeder Wert in diesem Vektor den Stichprobenmittelwert einer Merkmalsspalte im Datensatz darstellt.\n",
    "\n",
    "Implementieren Sie eigenständig den Mittelwertvektor und die Kovarianzmatrix. Testen Sie das Ergebnis Ihrer Implementierung anhand der Funktion <b>numpy.cov()</b>."
   ]
  },
  {
   "cell_type": "code",
   "execution_count": 3,
   "metadata": {},
   "outputs": [
    {
     "name": "stdout",
     "output_type": "stream",
     "text": [
      "[[ 0.68569351 -0.03926846  1.27368233  0.5169038 ]\n",
      " [-0.03926846  0.18800403 -0.32171275 -0.11798121]\n",
      " [ 1.27368233 -0.32171275  3.11317942  1.29638747]\n",
      " [ 0.5169038  -0.11798121  1.29638747  0.58241432]]\n",
      "[[ 0.68569351 -0.03926846  1.27368233  0.5169038 ]\n",
      " [-0.03926846  0.18800403 -0.32171275 -0.11798121]\n",
      " [ 1.27368233 -0.32171275  3.11317942  1.29638747]\n",
      " [ 0.5169038  -0.11798121  1.29638747  0.58241432]]\n"
     ]
    }
   ],
   "source": [
    "# TODO: implement\n",
    "# .astype(float) verwenden, da zuvor vom Tyo object und damit Funktionsaufruf nicht moeglich\n",
    "mean_vec = X.mean(axis=0) # Mittelwertvektor\n",
    "cov_mat = (((X - mean_vec).T.dot((X - mean_vec))) / (X.shape[0] - 1)).astype(float)\n",
    "print(cov_mat.round(decimals=8))\n",
    "\n",
    "# Kovarinazmatrix testweise mit numpy.cov() berechnen\n",
    "cov_test = np.cov(X.astype(float),rowvar=False) #rowvar=false: relationship is transposed: each column represents a variable, while the rows contain observations.\n",
    "print(cov_test)"
   ]
  },
  {
   "cell_type": "markdown",
   "metadata": {},
   "source": [
    "# 2 - Eigendekomposition - Berechnung Eigenvektoren and Eigenwerte\n",
    "\n",
    "Im folgenden wird das in der Vorlesung (Prof. Laubenheimer) besprochene Vorgehen Schritt-für-Schritt umgesetzt, mit einer kleinen Abwandlung. Die einzelnen Berechnungsschritte sind für eine eigenständige Implementierung Ihrerseits im Rahmen dieses Labors zu aufwendig. Daher können Sie auf Implementierungen von Bibliotheks-Funktionen zurückgreifen. Welche diese konkret sind wird jedoch nicht vorweggenommen. Diese sind Ihrerseits anhand von Recherche-Arbeiten herauszufinden."
   ]
  },
  {
   "cell_type": "markdown",
   "metadata": {},
   "source": [
    "## 2.1. Charakteristisches Polynom\n",
    "Der erste Schritt ist die Aufstellung des charakteristischen Polynoms. "
   ]
  },
  {
   "cell_type": "code",
   "execution_count": 4,
   "metadata": {},
   "outputs": [
    {
     "name": "stdout",
     "output_type": "stream",
     "text": [
      "[ 1.00000000e+00 -4.56929128e+00  1.48186720e+00 -1.12910083e-01\n",
      "  1.90327580e-03]\n",
      "   4         3         2\n",
      "1 x - 4.569 x + 1.482 x - 0.1129 x + 0.001903\n"
     ]
    }
   ],
   "source": [
    "# TODO: implement\n",
    "cp = np.poly(cov_mat)\n",
    "print(cp)\n",
    "cp1d = np.poly1d(cp)\n",
    "print(cp1d)"
   ]
  },
  {
   "cell_type": "markdown",
   "metadata": {},
   "source": [
    "## 2.2. Eigenwerte (Nullstellen)\n",
    "Der zweite Schritt ist die Berechnung der Nullstellen anhand des charakteristischen Polynoms. Damit einhergehend sind die Eigenwerte bestimmt."
   ]
  },
  {
   "cell_type": "code",
   "execution_count": 5,
   "metadata": {},
   "outputs": [
    {
     "name": "stdout",
     "output_type": "stream",
     "text": [
      "[4.22484077 0.24224357 0.07852391 0.02368303]\n"
     ]
    }
   ],
   "source": [
    "# TODO: implement\n",
    "eig_vals = cp1d.r # Alternativ: np.roots(cp)\n",
    "print(eig_vals)"
   ]
  },
  {
   "cell_type": "markdown",
   "metadata": {},
   "source": [
    "## 2.3. Eigenvektoren\n",
    "Der dritte Schritte ist die Berechnung der Eigenvektoren durch Lösung der Gleichung: <br>\n",
    "$C−\\lambda_i \\cdot I \\cdot \\vec{e}_i = \\vec{0}$.\n",
    "\n",
    "In der Vorlesung und in der Klausur (sofern diese Aufgabe gestellt wird), wird an dieser Stelle das Lineare Gleichungssystem (LGS) gelöst. Dies sollten Sie an dieser Stelle auch tun! Leider erzeugen jedoch die gängigen LGS-Solver, wie bspw. <b>scipy.linalg.solve()</b> und <b>numpy.linalg.solve()</b>, lediglich die triviale Lösung. Gerne können Sie das erproben.<br>\n",
    "\n",
    "<b>Achtung!</b>: Hier kommt der Teil, an dem wir vom Skript abweichen: <br>\n",
    "* Stellen Sie für jede Nullstelle <i>i</i> (Eigenwert) folgende Matrix m auf: $m_i = (C−\\lambda_i \\cdot I).$\n",
    "* Führen Sie für jede Nullstelle auf Basis der Matrizen eine QR-Zerlegung (https://de.wikipedia.org/wiki/QR-Zerlegung) durch. Dh finden Sie eine Funktion die dies berechnet. Die QR-Zerlegung unterstützt Sie bei der Lösung eines linearen Gleichungssystems. Das Resultat der Zerlegung sind die zwei Matrizen <b>q</b> und <b>r</b>.<br>\n",
    "* Bestimmen Sie den <i>Rang der Matrix</i> wiefolgt: Ermitteln Sie in <b>r</b> die Zeile, in der sämtliche Werte 0 sind bzw. \"nah dran\". Der Rang der Matrix ist der Wert der ermittelten Zeile minus 1. <br> Zum Beispiel: Angenommen, in der Zeile 4 sind alle Werte nah an 0, dann ist der Rang der Matrix: Zeile 4 minus 1 = 3. (Grafik: Rot) <br> \n",
    "* Bestimmen Sie die <i>Eigenvektoren</i> wiefolgt: Ermitteln Sie in <b>q</b> die vom Ende betrachtet n-r Spalten (mit n=Dimension, r=Rang). In diesen Spalten sind die Eigenvektoren enthalten. <br> Zum Beispiel: Angenommen die Dimension n=4 und der Rang r=3, dann sind die Eigenvektoren in der vom Ende betrachteten Spalte n-r= 4-3= 1, dh die erste Spalte vom Ende betrachtet, bzw. die vierte Spalte vom Anfang betrachtet. (Grafik: Grün)\n",
    "\n",
    "<img src=\"./Figures/q_r_color.png\" alt=\"drawing\" style=\"width:400px;\"/>\n",
    "\n",
    "Nochmals der Hinweis führen Sie dieses Verfahren für alle Nullstellen durch und erzeugen Sie eine geeignete Datenstruktur.<br>\n",
    "\n",
    "Testen Sie das Ergebnis Ihrer Implementierung anhand der Funktion <b>numpy.linalg.eig()</b>."
   ]
  },
  {
   "cell_type": "code",
   "execution_count": 6,
   "metadata": {},
   "outputs": [
    {
     "name": "stdout",
     "output_type": "stream",
     "text": [
      "[[ 0.36158968 -0.08226889  0.85657211  0.35884393]\n",
      " [-0.65653988 -0.72971237  0.1757674   0.07470647]\n",
      " [-0.58099728  0.59641809  0.07252408  0.54906091]\n",
      " [ 0.31725455 -0.32409435 -0.47971899  0.75112056]]\n",
      "Referenz: \n",
      " [[ 0.36158968 -0.65653988 -0.58099728  0.31725455]\n",
      " [-0.08226889 -0.72971237  0.59641809 -0.32409435]\n",
      " [ 0.85657211  0.1757674   0.07252408 -0.47971899]\n",
      " [ 0.35884393  0.07470647  0.54906091  0.75112056]]\n"
     ]
    }
   ],
   "source": [
    "# TODO: implement\n",
    "eig_vecs=[]\n",
    "dim_cov = cov_mat.shape[0]\n",
    "epsilon = 0.0001 # 0 +/- epsilon gilt als \"nah an 0\"\n",
    "# fuer jeden EW\n",
    "for i in eig_vals: \n",
    "    m = cov_mat - i*(np.eye(dim_cov, dim_cov)) # eye = Einheitsmatrix\n",
    "    #print(m)\n",
    "    q, r = np.linalg.qr(m) # QR-Zerlegung\n",
    "    #print(q)\n",
    "    #print(r)\n",
    "    \n",
    "    # Suche die erste Nullzeile (von oben)\n",
    "    for index_row, row in enumerate(r):\n",
    "        nearby0 = True\n",
    "        for value in row:\n",
    "            # obere Schranke: o + epsilon; untere Schranke 0 - epsilon -> Alles dazwischen zaehlt als \"nah an 0\" (Schranken inklusive)\n",
    "            if(not(value >= - epsilon and value <= epsilon)):\n",
    "                # ausserhalb der Schranken -> nicht nah an 0\n",
    "               nearby0 = False\n",
    "               break\n",
    "        if(nearby0 == True): # saemtliche Werte der Zeile sind nah an 0\n",
    "            rang = index_row # -1 nicht noetig, da Index bei 0 beginnt#\n",
    "            #print(rang) # hier: 4mal Rang = 3   \n",
    "            break\n",
    "         \n",
    "    # Eigenvektoren bestimmen\n",
    "    n = q.shape[0] # Dimensin der Matrix Q (Q ist per Definition der QR-Zerlegung quadratisch)\n",
    "    #print(n) #hier: immer Dimension=4\n",
    "    eig_vec_column = n - rang\n",
    "    eig_vec_index = n - eig_vec_column # Indexwert des Eigenvektors\n",
    "    #print(eig_vec_index) # hier: immer 3\n",
    "    eig_vecs.append(q[:, eig_vec_index])\n",
    "    \n",
    "eig_vecs = np.asarray(eig_vecs)\n",
    "print(eig_vecs)\n",
    "\n",
    "# Test\n",
    "eig_vecs_test = np.linalg.eig(cov_mat)\n",
    "print(\"Referenz: \\n\", eig_vecs_test[1])"
   ]
  },
  {
   "cell_type": "markdown",
   "metadata": {},
   "source": [
    "# 3 - Auswahl der Hauptkomponenten (Principal Components)"
   ]
  },
  {
   "cell_type": "markdown",
   "metadata": {},
   "source": [
    "## Sortierung der Eigenpaare (Eigenpairs)"
   ]
  },
  {
   "cell_type": "markdown",
   "metadata": {},
   "source": [
    "Das Ziel der PCA ist es, die Dimensionalität des ursprünglichen Merkmalsraums zu reduzieren, indem dieser auf einen kleineren Unterraum projiziert wird, in dem die Eigenvektoren die Achsen bilden. Die Eigenvektoren definieren jedoch nur die Richtungen der neuen Achse, da sie alle die gleiche Einheitslänge 1 haben. Dies kann durch die folgenden beiden Codezeilen bestätigt werden:"
   ]
  },
  {
   "cell_type": "code",
   "execution_count": 7,
   "metadata": {},
   "outputs": [
    {
     "name": "stdout",
     "output_type": "stream",
     "text": [
      "Ok Ok!\n"
     ]
    }
   ],
   "source": [
    "for ev in eig_vecs.T:\n",
    "    np.testing.assert_array_almost_equal(1.0, np.linalg.norm(ev))\n",
    "print('Ok Ok!')"
   ]
  },
  {
   "cell_type": "markdown",
   "metadata": {},
   "source": [
    "Um zu entscheiden, welche/r Eigenvektor/en entfallen kann/können, ohne dass zu viele Informationen für die Konstruktion des niederdimensionalen Unterraums verloren gehen, müssen die entsprechenden Eigenwerte untersucht werden: Die Eigenvektoren mit den niedrigsten Eigenwerten enthalten die geringste Information über die Verteilung der Daten; diese können entfallen. Zu diesem Zweck werden die Eigenwerte von den höchsten zu den niedrigsten geordnet/ sortiert, um die besten k Eigenvektoren auszuwählen.\n",
    "\n",
    "Erzeugen Sie eine Liste von Tupeln, welche die Eigenwerte und Eigenvektoren enthält. Und sortieren Sie diese entsprechend."
   ]
  },
  {
   "cell_type": "code",
   "execution_count": 8,
   "metadata": {},
   "outputs": [
    {
     "name": "stdout",
     "output_type": "stream",
     "text": [
      "[(4.224840768320106, array([ 0.36158968, -0.08226889,  0.85657211,  0.35884393])), (0.24224357162751536, array([-0.65653988, -0.72971237,  0.1757674 ,  0.07470647])), (0.07852390809415474, array([-0.58099728,  0.59641809,  0.07252408,  0.54906091])), (0.023683027126000983, array([ 0.31725455, -0.32409435, -0.47971899,  0.75112056]))]\n",
      "Sorted: \n",
      " [(4.224840768320106, array([ 0.36158968, -0.08226889,  0.85657211,  0.35884393])), (0.24224357162751536, array([-0.65653988, -0.72971237,  0.1757674 ,  0.07470647])), (0.07852390809415474, array([-0.58099728,  0.59641809,  0.07252408,  0.54906091])), (0.023683027126000983, array([ 0.31725455, -0.32409435, -0.47971899,  0.75112056]))]\n"
     ]
    }
   ],
   "source": [
    "# Make a list of (eigenvalue, eigenvector) tuples\n",
    "# TODO: implement\n",
    "eig_pairs = []\n",
    "\n",
    "for index, val in enumerate(eig_vals):\n",
    "    temp_tupl = (val, eig_vecs[index])\n",
    "    eig_pairs.append(temp_tupl) # Tupel in Liste einfuegen\n",
    "print(eig_pairs)  \n",
    "\n",
    "# sortieren\n",
    "eig_pairs.sort(reverse=True)\n",
    "print(\"Sorted: \\n\", eig_pairs)"
   ]
  },
  {
   "cell_type": "markdown",
   "metadata": {},
   "source": [
    "## Explained Variance"
   ]
  },
  {
   "cell_type": "markdown",
   "metadata": {},
   "source": [
    "Nach der Sortierung der Eigenpaare stellen Sie sich möglicherweise folgende Frage: <i>\"Wie viele Hauptkomponenten werden für den neuen Feature-Unterraum ausgewählt?\"</i> <br>\n",
    "\n",
    "Ein nützliches Maß ist die sogenannte \"explained variance\", die sich aus den Eigenwerten berechnen lässt. Die \"explained variance\" gibt an, wie viel Informationen (Varianz) den einzelnen Hauptkomponenten zugeordnet werden können.\n",
    "\n",
    "Ermitteln Sie die \"explained variance\", indem sie den prozentualen Anteil der einzelnen Eigenwerten aus der Gesamtheit Eigenwerten berechnen."
   ]
  },
  {
   "cell_type": "code",
   "execution_count": 9,
   "metadata": {},
   "outputs": [
    {
     "name": "stdout",
     "output_type": "stream",
     "text": [
      "[0.9246162071742682, 0.05301556785053511, 0.017185139525006856, 0.00518308545018973]\n"
     ]
    }
   ],
   "source": [
    "# TODO: implement\n",
    "\n",
    "# Summe der Eingenwerte berechnen\n",
    "sum = eig_vals.sum()\n",
    "\n",
    "# explained variance fuer jeden Eigenwert berechnen\n",
    "expl_var = []\n",
    "for value in eig_vals:\n",
    "    expl_var.append(value/sum)\n",
    "print(expl_var)"
   ]
  },
  {
   "cell_type": "markdown",
   "metadata": {},
   "source": [
    "Die Berechnung zeigt deutlich, dass der größte Teil der Varianz (92.46% der Varianz) allein durch die erste Hauptkomponente erklärt werden kann. Die zweite Hauptkomponente enthält noch etwas Informationen (5.30%), während die dritte und vierte Hauptkomponente sicher fallengelassen werden können, ohne zu viele Informationen zu verlieren. Zusammen enthalten die ersten beiden Hauptkomponenten 97.76% der Informationen"
   ]
  },
  {
   "cell_type": "markdown",
   "metadata": {},
   "source": [
    "## Projektionsmatrix W"
   ]
  },
  {
   "cell_type": "markdown",
   "metadata": {},
   "source": [
    "Es folgt die Konstruktion der Projektionsmatrix, mit der die Iris-Daten in den neuen Feature-Unterraum transformiert werden. Die Projektionsmatrix ist im Grunde genommen eine Matrix der konkatenierten Top-k-Eigenvektoren. <br>\n",
    "\n",
    "Es erfolgt eine Reduktion des 4-dimensionalen Merkmalsraum auf einen 2-dimensionalen Merkmalsunterraum, indem die \"Top 2\"-Eigenvektoren mit den höchsten Eigenwerten ausgewählt werden, um die d$\\times$k-dimensionale Projektionsmatrix (auch: Eigenvektormatrix) <b>W</b> zu konstruieren. \n",
    "\n",
    "Erzeugen Sie die Projektionsmatrix <b>W</b> (mit einem shape: (4, 2)) aus den Eigenpairs."
   ]
  },
  {
   "cell_type": "code",
   "execution_count": 53,
   "metadata": {
    "scrolled": false
   },
   "outputs": [
    {
     "name": "stdout",
     "output_type": "stream",
     "text": [
      "[[ 0.36158968 -0.65653988]\n",
      " [-0.08226889 -0.72971237]\n",
      " [ 0.85657211  0.1757674 ]\n",
      " [ 0.35884393  0.07470647]]\n"
     ]
    }
   ],
   "source": [
    "# TODO: implement\n",
    "k = 2 # Projektion in 2D-Merkmalsraum\n",
    "matrix_w = []\n",
    "\n",
    "# die k EVs zu den k groessten EWs auswaehlen\n",
    "for i in range(k): \n",
    "    evec_temp = eig_pairs[i][1]\n",
    "    matrix_w.append(eig_pairs[i][1])\n",
    "    \n",
    "matrix_w = np.asarray(matrix_w).T\n",
    "print(matrix_w)"
   ]
  },
  {
   "cell_type": "markdown",
   "metadata": {},
   "source": [
    "# 4 - Projektion in den neuen Feature-Unterraum"
   ]
  },
  {
   "cell_type": "markdown",
   "metadata": {},
   "source": [
    "In diesem letzten Schritt wird die 4$\\times$2-dimensionale Projektionsmatrix W verwendet, um die Daten über die Gleichung auf den neuen Unterraum zu transformieren:\n",
    "\n",
    "$Y=X \\cdot W$ <br>\n",
    "\n",
    "wobei Y eine 150$\\times$2-Matrix der transformierten Daten ist."
   ]
  },
  {
   "cell_type": "code",
   "execution_count": 56,
   "metadata": {},
   "outputs": [
    {
     "name": "stdout",
     "output_type": "stream",
     "text": [
      "[[2.82713597267903 -5.641331045573357]\n",
      " [2.795952482148847 -5.1451668832529425]\n",
      " [2.6215235581650616 -5.177378121203941]\n",
      " [2.7649059004742433 -5.003599415056978]\n",
      " [2.7827501159516634 -5.648648294377423]\n",
      " [3.2314457367733804 -6.062506444034102]\n",
      " [2.690452415602347 -5.232619219784287]\n",
      " [2.8848611044591594 -5.485129079769259]\n",
      " [2.6233845324473433 -4.743925704477377]\n",
      " [2.8374984110638573 -5.208032027056231]\n",
      " [3.004816308444075 -5.966658744481541]\n",
      " [2.898200379511922 -5.336244362769227]\n",
      " [2.7239091217858804 -5.086983541937863]\n",
      " [2.286142651507997 -4.811443821323543]\n",
      " [2.867799880841832 -6.500918630222418]\n",
      " [3.1274737739836023 -6.65947807536883]\n",
      " [2.8888168946571686 -6.132813405405563]\n",
      " [2.863020365303851 -5.633860398559853]\n",
      " [3.3122651363522158 -6.193967818900705]\n",
      " [2.9239969088652393 -5.835197369614937]\n",
      " [3.2008113964698452 -5.712591552397861]\n",
      " [2.968108190479282 -5.754755485468784]\n",
      " [2.2954854028828717 -5.456339302434552]\n",
      " [3.208214560119095 -5.42024640923895]\n",
      " [3.15517201109908 -5.283514141740631]\n",
      " [3.003425870945098 -5.175667390895795]\n",
      " [3.0422871002378544 -5.452611045399387]\n",
      " [2.948952150946228 -5.689408293559075]\n",
      " [2.8715218294063964 -5.63401379676929]\n",
      " [2.87849518975222 -5.124647900175345]\n",
      " [2.9228810464795862 -5.117330651371278]\n",
      " [3.1012657606613816 -5.7328037390565845]\n",
      " [2.863706424386078 -6.134706363368477]\n",
      " [2.91418362070706 -6.414745658816237]\n",
      " [2.8374984110638573 -5.208032027056231]\n",
      " [2.6443432508504436 -5.391916826532556]\n",
      " [2.886114633102557 -5.921523739230555]\n",
      " [2.8374984110638573 -5.208032027056231]\n",
      " [2.529500432929069 -4.834473681952892]\n",
      " [2.921020072197304 -5.550783068097842]\n",
      " [2.741204187036653 -5.5857831505741355]\n",
      " [2.659132016216585 -4.381858363339424]\n",
      " [2.5130466549506263 -4.980416156218191]\n",
      " [3.1058289964982757 -5.5106409885050285]\n",
      " [3.302510143606272 -5.757419761229972]\n",
      " [2.7956779070355227 -5.072042247910855]\n",
      " [2.973769726769471 -5.825091276285575]\n",
      " [2.6710218009559688 -5.094147392532492]\n",
      " [2.96865734070593 -5.9010047561529575]\n",
      " [2.8074307829193277 -5.429734582979474]\n",
      " [6.79613768562805 -6.000162916941889]\n",
      " [6.443753850765895 -5.633921820642618]\n",
      " [6.975404420562054 -5.818913563781423]\n",
      " [5.692310304130675 -4.489119787232856]\n",
      " [6.598477584989978 -5.390114120097737]\n",
      " [6.1517798473061225 -4.897400247838944]\n",
      " [6.606566807721455 -5.598614941747449]\n",
      " [4.759875957134749 -4.313616217834575]\n",
      " [6.554640878489258 -5.543680639585976]\n",
      " [5.501153027055124 -4.594148864107067]\n",
      " [5.000256901887886 -4.0522317769468295]\n",
      " [6.022441158466455 -5.212439625762999]\n",
      " [5.773678853936158 -4.7668304327836335]\n",
      " [6.495387642952409 -5.190363310586692]\n",
      " [5.33647909581728 -5.062908159728798]\n",
      " [6.438916039815679 -5.7829599358520865]\n",
      " [6.170935886839177 -4.962747439748653]\n",
      " [5.745883684042814 -4.98280190144685]\n",
      " [6.453704805181819 -4.772901472658955]\n",
      " [5.554589498111682 -4.7332342841966115]\n",
      " [6.627583821536793 -5.230509716930595]\n",
      " [5.868129665613439 -5.247899902867603]\n",
      " [6.807811948068512 -4.9871622110140255]\n",
      " [6.431845746691987 -5.13233336748105]\n",
      " [6.22535131142581 -5.465102883957407]\n",
      " [6.410983961066754 -5.644334710390853]\n",
      " [6.842384516637699 -5.559393251411259]\n",
      " [7.06873936985368 -5.582116315621733]\n",
      " [6.323798646780979 -5.152392155930336]\n",
      " [5.2040083421195735 -4.9496371180428085]\n",
      " [5.441000208833705 -4.612185799078244]\n",
      " [5.319458605679832 -4.637233186434613]\n",
      " [5.646338048234351 -5.003014088105573]\n",
      " [6.890080080558559 -4.893518592594342]\n",
      " [6.098617951362888 -4.8314394630914865]\n",
      " [6.318548594459693 -5.50977769458008]\n",
      " [6.731772064027657 -5.722759067809987]\n",
      " [6.324210888152048 -4.9440447324900605]\n",
      " [5.756538259473323 -5.047995695147121]\n",
      " [5.6758565261522325 -4.635062261498155]\n",
      " [5.974374086654402 -4.645197184272848]\n",
      " [6.401503543434134 -5.2809112880622076]\n",
      " [5.7402221477526245 -4.912466110630058]\n",
      " [4.804261813862116 -4.306298969030509]\n",
      " [5.86687613697004 -4.811505243406308]\n",
      " [5.842470045115701 -5.1035435901463435]\n",
      " [5.886581326729742 -5.0231017060001895]\n",
      " [6.15303337594952 -5.333794907300241]\n",
      " [4.60287976465948 -4.563155005639483]\n",
      " [5.809151005189912 -4.967707209210405]\n",
      " [8.043070078222534 -5.302881494168667]\n",
      " [6.9254153229567335 -4.739798674896663]\n",
      " [8.12782770606702 -5.6566590177962635]\n",
      " [7.482158043689459 -5.133598036104057]\n",
      " [7.861101081733919 -5.272841181154127]\n",
      " [8.908223018461115 -5.861891777039123]\n",
      " [6.030726342867912 -4.123372041758316]\n",
      " [8.44334819477428 -5.6671007369898305]\n",
      " [7.831015891657031 -5.069175560202059]\n",
      " [8.429477331427227 -6.095104360180999]\n",
      " [7.173278044802463 -5.55676213184649]\n",
      " [7.31368355044371 -5.098569124182433]\n",
      " [7.676721960736373 -5.530004014181975]\n",
      " [6.855937315292801 -4.5383083056321425]\n",
      " [7.096610397091618 -4.775416676961795]\n",
      " [7.416086675996888 -5.433542721791666]\n",
      " [7.460591879647475 -5.355453990236738]\n",
      " [9.000108477439364 -6.4862682750725345]\n",
      " [9.306029958992948 -5.567989301781504]\n",
      " [6.809672922350793 -4.553709794287462]\n",
      " [7.939510356803825 -5.69150570206312]\n",
      " [6.709440470057938 -4.709144769044373]\n",
      " [9.010608582081936 -5.771497197773046]\n",
      " [6.8990113479645325 -5.110692744238814]\n",
      " [7.787196747088671 -5.6481102565656105]\n",
      " [8.125536928481313 -5.873090681087793]\n",
      " [6.768968280708113 -5.135586733385746]\n",
      " [6.802012745520578 -5.198298478979597]\n",
      " [7.634197078291289 -5.103868846259479]\n",
      " [7.898907500152006 -5.77724298153523]\n",
      " [8.352304023068362 -5.6874663218579915]\n",
      " [8.743685996078852 -6.685247766785304]\n",
      " [7.670081470916111 -5.096398199245975]\n",
      " [6.954445702158952 -5.170922441726244]\n",
      " [7.290983204681549 -4.813258936102955]\n",
      " [8.587864718803639 -6.000488173055025]\n",
      " [7.65632995449228 -5.453630339686282]\n",
      " [7.416206022920108 -5.362771239040804]\n",
      " [6.68019656725338 -5.150221230993878]\n",
      " [7.618996828956245 -5.686205979986074]\n",
      " [7.825646492412525 -5.497332581602666]\n",
      " [7.433793982618728 -5.723994906987662]\n",
      " [6.9254153229567335 -4.739798674896663]\n",
      " [8.074665810123786 -5.590698233048807]\n",
      " [7.930734317587956 -5.6182276685115955]\n",
      " [7.455360146660714 -5.50213895285498]\n",
      " [7.037006729096849 -4.939702882617145]\n",
      " [7.27538903330996 -5.393242917238326]\n",
      " [7.412972173071208 -5.430600479056934]\n",
      " [6.901009231102393 -5.0318370216367]]\n"
     ]
    },
    {
     "data": {
      "text/plain": [
       "(150, 2)"
      ]
     },
     "execution_count": 56,
     "metadata": {},
     "output_type": "execute_result"
    }
   ],
   "source": [
    "# TODO: implement\n",
    "Y = X.dot(matrix_w)\n",
    "print(Y)\n",
    "Y.shape"
   ]
  },
  {
   "cell_type": "markdown",
   "metadata": {},
   "source": [
    "Führen Sie folgenden Code aus und visualisieren Sie das Ergebnis."
   ]
  },
  {
   "cell_type": "code",
   "execution_count": 60,
   "metadata": {},
   "outputs": [
    {
     "data": {
      "image/png": "[encoded data removed]",
      "text/plain": [
       "<Figure size 432x288 with 1 Axes>"
      ]
     },
     "metadata": {},
     "output_type": "display_data"
    }
   ],
   "source": [
    "with plt.style.context('seaborn-whitegrid'):\n",
    "    plt.figure(figsize=(6, 4))\n",
    "    for lab, col in zip(('Iris-setosa', 'Iris-versicolor', 'Iris-virginica'),\n",
    "                        ('blue', 'red', 'green')):\n",
    "        plt.scatter(Y[y==lab, 0],\n",
    "                    Y[y==lab, 1],\n",
    "                    label=lab,\n",
    "                    c=col)\n",
    "    plt.xlabel('Principal Component 1')\n",
    "    plt.ylabel('Principal Component 2')\n",
    "    plt.legend(loc='lower center')\n",
    "    plt.tight_layout()\n",
    "    plt.show()\n"
   ]
  },
  {
   "cell_type": "markdown",
   "metadata": {},
   "source": [
    "Das Ergebnis sollte wiefolgt aussehen: \n",
    "<img src=\"./Figures/pca_result.png\" alt=\"drawing\" style=\"width:400px;\"/>"
   ]
  },
  {
   "cell_type": "code",
   "execution_count": null,
   "metadata": {},
   "outputs": [],
   "source": []
  }
 ],
 "metadata": {
  "kernelspec": {
   "display_name": "Python 3",
   "language": "python",
   "name": "python3"
  },
  "language_info": {
   "codemirror_mode": {
    "name": "ipython",
    "version": 3
   },
   "file_extension": ".py",
   "mimetype": "text/x-python",
   "name": "python",
   "nbconvert_exporter": "python",
   "pygments_lexer": "ipython3",
   "version": "3.7.6"
  }
 },
 "nbformat": 4,
 "nbformat_minor": 2
}

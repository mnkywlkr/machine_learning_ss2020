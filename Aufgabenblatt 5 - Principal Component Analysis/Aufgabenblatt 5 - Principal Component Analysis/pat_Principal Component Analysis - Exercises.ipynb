{
 "cells": [
  {
   "cell_type": "markdown",
   "metadata": {},
   "source": [
    "# Hauptkomponentenanalyse - Principal Component Analysis (PCA)\n",
    "\n",
    "## Introduction\n",
    "Das Ziel der PCA ist, Muster in Daten zu identifizieren. Die PCA zielt darauf ab, die Korrelation zwischen Variablen zu ermitteln. Die Intention, die Dimensionalität zu reduzieren, ist nur dann sinnvoll, wenn eine starke Korrelation zwischen Variablen besteht.\n",
    "\n",
    "Kurz gesagt, bei der PCA geht es um folgendes: Ermittlung der Richtungen mit der maximalen Varianz in hochdimensionalen Daten und eine anschließende Projektion auf einen kleineren dimensionalen Unterraum, während die meisten Informationen behalten werden.\n",
    "\n",
    "## PCA and Dimensionsreduktion\n",
    "Häufig besteht das gewünschte Ziel darin, die Dimensionen eines d-dimensionalen Datensatzes zu reduzieren, indem er auf einen (k)-dimensionalen Unterraum projiziert wird (wobei k <d ist), um die Recheneffizienz zu erhöhen und gleichzeitig den größten Teil der Informationen beizubehalten.\n",
    "\n",
    "## Eine Zusammenfassung des PCA-Ansatzes\n",
    "* Ermittlung der Eigenvektoren (Eigenvectors) und Eigenwerte (Eigenvalues) anhand Kovarianzmatrix <br>\n",
    "* Sortierung der Eigenwerte in absteigender Reihenfolge und Auswahl der k Eigenvektoren, die den k größten Eigenwerten entsprechen, wobei k die Anzahl der Dimensionen des neuen Merkmalsunterraums ist (k <= d).\n",
    "* Konstruktion der Projektionsmatrix <b>W</b> aus den ausgewählten k Eigenvektoren.\n",
    "* Transformierung des ursprünglichen Datensatzes <b>X </b> über <b>W</b>, um einen k-dimensionalen Merkmalsunterraum <b>Y</b> zu erhalten.\n",
    "\n",
    "## Iris Datensatz\n",
    "\n",
    "Für die anstehende Aufgabe wird der bereits bekannte Iris-Datensatz verwendet.\n",
    "\n",
    "<img src=\"./Figures/Iris-Datensammlung.png\" alt=\"drawing\" style=\"width:400px;\"/>"
   ]
  },
  {
   "cell_type": "markdown",
   "metadata": {},
   "source": [
    "## Datensatz einlesen\n",
    "\n",
    "Lesen Sie den Iris-Datensatz aus dem Verzeichnis /Data ein. Speichern Sie hierbei die numerischen Werte und die Class labels in unterschiedlichen Variablen."
   ]
  },
  {
   "cell_type": "code",
   "execution_count": 3,
   "metadata": {},
   "outputs": [],
   "source": [
    "# TODO: implement\n",
    "import pandas as pd\n",
    "\n",
    "df = pd.read_csv('./Data/iris.data', header=None, sep=',')\n",
    "X= df.drop(columns=[4])\n",
    "y= df.drop(columns=[0,1,2,3])"
   ]
  },
  {
   "cell_type": "markdown",
   "metadata": {},
   "source": [
    "Der Iris-Datensatz ist jetzt in Form einer 150$\\times$4-Matrix gespeichert, in der die Spalten die verschiedenen Merkmale darstellen und jede Zeile eine separate Blumenprobe darstellt. Jedes Sample <b>x</b> kann als 4-dimensionaler Vektor dargestellt werden"
   ]
  },
  {
   "cell_type": "code",
   "execution_count": 4,
   "metadata": {},
   "outputs": [
    {
     "data": {
      "text/plain": [
       "(150, 4)"
      ]
     },
     "execution_count": 4,
     "metadata": {},
     "output_type": "execute_result"
    }
   ],
   "source": [
    "X.shape"
   ]
  },
  {
   "cell_type": "code",
   "execution_count": 5,
   "metadata": {},
   "outputs": [
    {
     "data": {
      "text/html": [
       "<div>\n",
       "<style scoped>\n",
       "    .dataframe tbody tr th:only-of-type {\n",
       "        vertical-align: middle;\n",
       "    }\n",
       "\n",
       "    .dataframe tbody tr th {\n",
       "        vertical-align: top;\n",
       "    }\n",
       "\n",
       "    .dataframe thead th {\n",
       "        text-align: right;\n",
       "    }\n",
       "</style>\n",
       "<table border=\"1\" class=\"dataframe\">\n",
       "  <thead>\n",
       "    <tr style=\"text-align: right;\">\n",
       "      <th></th>\n",
       "      <th>0</th>\n",
       "      <th>1</th>\n",
       "      <th>2</th>\n",
       "      <th>3</th>\n",
       "    </tr>\n",
       "  </thead>\n",
       "  <tbody>\n",
       "    <tr>\n",
       "      <th>0</th>\n",
       "      <td>5.1</td>\n",
       "      <td>3.5</td>\n",
       "      <td>1.4</td>\n",
       "      <td>0.2</td>\n",
       "    </tr>\n",
       "    <tr>\n",
       "      <th>1</th>\n",
       "      <td>4.9</td>\n",
       "      <td>3.0</td>\n",
       "      <td>1.4</td>\n",
       "      <td>0.2</td>\n",
       "    </tr>\n",
       "    <tr>\n",
       "      <th>2</th>\n",
       "      <td>4.7</td>\n",
       "      <td>3.2</td>\n",
       "      <td>1.3</td>\n",
       "      <td>0.2</td>\n",
       "    </tr>\n",
       "    <tr>\n",
       "      <th>3</th>\n",
       "      <td>4.6</td>\n",
       "      <td>3.1</td>\n",
       "      <td>1.5</td>\n",
       "      <td>0.2</td>\n",
       "    </tr>\n",
       "    <tr>\n",
       "      <th>4</th>\n",
       "      <td>5.0</td>\n",
       "      <td>3.6</td>\n",
       "      <td>1.4</td>\n",
       "      <td>0.2</td>\n",
       "    </tr>\n",
       "    <tr>\n",
       "      <th>5</th>\n",
       "      <td>5.4</td>\n",
       "      <td>3.9</td>\n",
       "      <td>1.7</td>\n",
       "      <td>0.4</td>\n",
       "    </tr>\n",
       "    <tr>\n",
       "      <th>6</th>\n",
       "      <td>4.6</td>\n",
       "      <td>3.4</td>\n",
       "      <td>1.4</td>\n",
       "      <td>0.3</td>\n",
       "    </tr>\n",
       "    <tr>\n",
       "      <th>7</th>\n",
       "      <td>5.0</td>\n",
       "      <td>3.4</td>\n",
       "      <td>1.5</td>\n",
       "      <td>0.2</td>\n",
       "    </tr>\n",
       "    <tr>\n",
       "      <th>8</th>\n",
       "      <td>4.4</td>\n",
       "      <td>2.9</td>\n",
       "      <td>1.4</td>\n",
       "      <td>0.2</td>\n",
       "    </tr>\n",
       "    <tr>\n",
       "      <th>9</th>\n",
       "      <td>4.9</td>\n",
       "      <td>3.1</td>\n",
       "      <td>1.5</td>\n",
       "      <td>0.1</td>\n",
       "    </tr>\n",
       "  </tbody>\n",
       "</table>\n",
       "</div>"
      ],
      "text/plain": [
       "     0    1    2    3\n",
       "0  5.1  3.5  1.4  0.2\n",
       "1  4.9  3.0  1.4  0.2\n",
       "2  4.7  3.2  1.3  0.2\n",
       "3  4.6  3.1  1.5  0.2\n",
       "4  5.0  3.6  1.4  0.2\n",
       "5  5.4  3.9  1.7  0.4\n",
       "6  4.6  3.4  1.4  0.3\n",
       "7  5.0  3.4  1.5  0.2\n",
       "8  4.4  2.9  1.4  0.2\n",
       "9  4.9  3.1  1.5  0.1"
      ]
     },
     "execution_count": 5,
     "metadata": {},
     "output_type": "execute_result"
    }
   ],
   "source": [
    "X[0:10]"
   ]
  },
  {
   "cell_type": "markdown",
   "metadata": {},
   "source": [
    "## Visualisierung\n",
    "\n",
    "Die Daten (3 verschiedene Blumenklassen befinden sich entlang der 4 verschiedenen Merkmale) lassen sich über Histogramme wiefolgt visualisieren."
   ]
  },
  {
   "cell_type": "markdown",
   "metadata": {},
   "source": [
    "Figure:\n",
    "<img src=\"./Figures/Exploratory-Visualization.png\" alt=\"drawing\" style=\"width:400px;\"/>"
   ]
  },
  {
   "cell_type": "markdown",
   "metadata": {},
   "source": [
    "# 1 - Berechnung der Kovarianzmatrix"
   ]
  },
  {
   "cell_type": "markdown",
   "metadata": {},
   "source": [
    "Die Eigenvektoren und Eigenwerte einer Kovarianzmatrix bilden den „Kern“ einer PCA: Die Eigenvektoren (Hauptkomponenten) bestimmen die Richtungen des neuen Merkmalsraums, und die Eigenwerte bestimmen ihre Größe. Mit anderen Worten, die Eigenwerte erklären die Varianz der Daten entlang der neuen Merkmalsachsen.\n",
    "\n",
    "## Kovarianzmatrix C\n",
    "Die Herangehensweise der PCA besteht darin, die Eigendekomposition anhand der Kovarianzmatrix $\\Sigma$ vorzunehmen. Diese ist ein d$\\times$d-Matrix, bei der jedes Element die Kovarianz zwischen zwei Merkmalen darstellt. Die Kovarianz zwischen zwei Merkmalen wird wie folgt berechnet:\n",
    "\n",
    "$\\sigma_{jk} = \\frac{1}{n-1}\\sum_{i=1}^{n}\\left(  x_{ij}-\\bar{x}_j \\right)  \\left( x_{ik}-\\bar{x}_k \\right).$\n",
    "\n",
    "Die Berechnung der Kovarianzmatrix wird über die folgende Matrixgleichung zusammengefasst:\n",
    "$\\Sigma = \\frac{1}{n-1} \\left( (\\mathbf{X} - \\mathbf{\\bar{x}})^T\\;(\\mathbf{X} - \\mathbf{\\bar{x}}) \\right)$\n",
    "\n",
    "mit $\\bar{x}$ als Mittelwertvektor $\\mathbf{\\bar{x}} = \\frac{1}{n} \\sum\\limits_{i=1}^n x_{i}.$\n",
    "\n",
    "Der Mittelwertvektor (mean vector) ist ein d-dimensionaler Vektor, bei dem jeder Wert in diesem Vektor den Stichprobenmittelwert einer Merkmalsspalte im Datensatz darstellt.\n",
    "\n",
    "Implementieren Sie eigenständig den Mittelwertvektor und die Kovarianzmatrix. Testen Sie das Ergebnis Ihrer Implementierung anhand der Funktion <b>numpy.cov()</b>."
   ]
  },
  {
   "cell_type": "code",
   "execution_count": 6,
   "metadata": {
    "scrolled": true
   },
   "outputs": [
    {
     "name": "stdout",
     "output_type": "stream",
     "text": [
      "[[ 0.68569351 -0.03926846  1.27368233  0.5169038 ]\n",
      " [-0.03926846  0.18800403 -0.32171275 -0.11798121]\n",
      " [ 1.27368233 -0.32171275  3.11317942  1.29638747]\n",
      " [ 0.5169038  -0.11798121  1.29638747  0.58241432]]\n"
     ]
    }
   ],
   "source": [
    "# TODO: implement\n",
    "import numpy as np\n",
    "\n",
    "def mean(input_array):\n",
    "    len_input_array = len(input_array)\n",
    "    sum_array = np.sum(input_array)\n",
    "    return sum_array/len_input_array\n",
    "\n",
    "def mean_matrix(matrix):\n",
    "    result=[]\n",
    "    for m in matrix:\n",
    "#         print(m)\n",
    "        result.append(mean(m))\n",
    "    return result\n",
    "\n",
    "def cov(input_matrix):\n",
    "    input_matrix = np.asarray(input_matrix)\n",
    "    \n",
    "    tmp = []\n",
    "    for m in input_matrix.T:\n",
    "        tmp.append(m - mean_matrix(input_matrix))\n",
    "    \n",
    "    tmp = np.asarray(tmp)\n",
    "    tmp = (tmp.T).dot(tmp)\n",
    "    return (1/(len(input_matrix[0])-1))*tmp\n",
    "\n",
    "assert np.all(np.cov(X.T) == cov(X.T))\n",
    "\n",
    "cov_mat = cov(X.T)\n",
    "print(cov_mat)"
   ]
  },
  {
   "cell_type": "markdown",
   "metadata": {},
   "source": [
    "# 2 - Eigendekomposition - Berechnung Eigenvektoren and Eigenwerte\n",
    "\n",
    "Im folgenden wird das in der Vorlesung (Prof. Laubenheimer) besprochene Vorgehen Schritt-für-Schritt umgesetzt, mit einer kleinen Abwandlung. Die einzelnen Berechnungsschritte sind für eine eigenständige Implementierung Ihrerseits im Rahmen dieses Labors zu aufwendig. Daher können Sie auf Implementierungen von Bibliotheks-Funktionen zurückgreifen. Welche diese konkret sind wird jedoch nicht vorweggenommen. Diese sind Ihrerseits anhand von Recherche-Arbeiten herauszufinden."
   ]
  },
  {
   "cell_type": "markdown",
   "metadata": {},
   "source": [
    "## 2.1. Charakteristisches Polynom\n",
    "Der erste Schritt ist die Aufstellung des charakteristischen Polynoms. "
   ]
  },
  {
   "cell_type": "code",
   "execution_count": 7,
   "metadata": {},
   "outputs": [
    {
     "name": "stdout",
     "output_type": "stream",
     "text": [
      "[ 1.00000000e+00 -4.56929128e+00  1.48186720e+00 -1.12910083e-01\n",
      "  1.90327580e-03]\n",
      "   4         3         2\n",
      "1 x - 4.569 x + 1.482 x - 0.1129 x + 0.001903\n"
     ]
    }
   ],
   "source": [
    "cp = np.poly(cov_mat)\n",
    "\n",
    "print(cp)\n",
    "print(np.poly1d(cp))"
   ]
  },
  {
   "cell_type": "markdown",
   "metadata": {},
   "source": [
    "## 2.2. Eigenwerte (Nullstellen)\n",
    "Der zweite Schritt ist die Berechnung der Nullstellen anhand des charakteristischen Polynoms. Damit einhergehend sind die Eigenwerte bestimmt."
   ]
  },
  {
   "cell_type": "code",
   "execution_count": 8,
   "metadata": {},
   "outputs": [
    {
     "name": "stdout",
     "output_type": "stream",
     "text": [
      "[4.22484077 0.24224357 0.07852391 0.02368303]\n"
     ]
    }
   ],
   "source": [
    "# TODO: implement\n",
    "eig_vals = np.roots(cp)\n",
    "print(eig_vals)"
   ]
  },
  {
   "cell_type": "markdown",
   "metadata": {},
   "source": [
    "## 2.3. Eigenvektoren\n",
    "Der dritte Schritte ist die Berechnung der Eigenvektoren durch Lösung der Gleichung: <br>\n",
    "$C−\\lambda_i \\cdot I \\cdot \\vec{e}_i = \\vec{0}$.\n",
    "\n",
    "In der Vorlesung und in der Klausur (sofern diese Aufgabe gestellt wird), wird an dieser Stelle das Lineare Gleichungssystem (LGS) gelöst. Dies sollten Sie an dieser Stelle auch tun! Leider erzeugen jedoch die gängigen LGS-Solver, wie bspw. <b>scipy.linalg.solve()</b> und <b>numpy.linalg.solve()</b>, lediglich die triviale Lösung. Gerne können Sie das erproben.<br>\n",
    "\n",
    "<b>Achtung!</b>: Hier kommt der Teil, an dem wir vom Skript abweichen: <br>\n",
    "* Stellen Sie für jede Nullstelle <i>i</i> (Eigenwert) folgende Matrix m auf: $m_i = (C−\\lambda_i \\cdot I).$\n",
    "* Führen Sie für jede Nullstelle auf Basis der Matrizen eine QR-Zerlegung (https://de.wikipedia.org/wiki/QR-Zerlegung) durch. Dh finden Sie eine Funktion die dies berechnet. Die QR-Zerlegung unterstützt Sie bei der Lösung eines linearen Gleichungssystems. Das Resultat der Zerlegung sind die zwei Matrizen <b>q</b> und <b>r</b>.<br>\n",
    "* Bestimmen Sie den <i>Rang der Matrix</i> wiefolgt: Ermitteln Sie in <b>r</b> die Zeile, in der sämtliche Werte 0 sind bzw. \"nah dran\". Der Rang der Matrix ist der Wert der ermittelten Zeile minus 1. <br> Zum Beispiel: Angenommen, in der Zeile 4 sind alle Werte nah an 0, dann ist der Rang der Matrix: Zeile 4 minus 1 = 3. (Grafik: Rot) <br> \n",
    "* Bestimmen Sie die <i>Eigenvektoren</i> wiefolgt: Ermitteln Sie in <b>q</b> die vom Ende betrachtet n-r Spalten (mit n=Dimension, r=Rang). In diesen Spalten sind die Eigenvektoren enthalten. <br> Zum Beispiel: Angenommen die Dimension n=4 und der Rang r=3, dann sind die Eigenvektoren in der vom Ende betrachteten Spalte n-r= 4-3= 1, dh die erste Spalte vom Ende betrachtet, bzw. die vierte Spalte vom Anfang betrachtet. (Grafik: Grün)\n",
    "\n",
    "<img src=\"./Figures/q_r_color.png\" alt=\"drawing\" style=\"width:400px;\"/>\n",
    "\n",
    "Nochmals der Hinweis führen Sie dieses Verfahren für alle Nullstellen durch und erzeugen Sie eine geeignete Datenstruktur.<br>\n",
    "\n",
    "Testen Sie das Ergebnis Ihrer Implementierung anhand der Funktion <b>numpy.linalg.eig()</b>."
   ]
  },
  {
   "cell_type": "code",
   "execution_count": 9,
   "metadata": {},
   "outputs": [
    {
     "name": "stdout",
     "output_type": "stream",
     "text": [
      "eig_vecs:\n",
      "[[ 0.36158968 -0.08226889  0.85657211  0.35884393]\n",
      " [-0.65653988 -0.72971237  0.1757674   0.07470647]\n",
      " [-0.58099728  0.59641809  0.07252408  0.54906091]\n",
      " [ 0.31725455 -0.32409435 -0.47971899  0.75112056]]\n",
      "\n",
      "(array([4.22484077, 0.24224357, 0.07852391, 0.02368303]), array([[ 0.36158968, -0.65653988, -0.58099728,  0.31725455],\n",
      "       [-0.08226889, -0.72971237,  0.59641809, -0.32409435],\n",
      "       [ 0.85657211,  0.1757674 ,  0.07252408, -0.47971899],\n",
      "       [ 0.35884393,  0.07470647,  0.54906091,  0.75112056]]))\n"
     ]
    }
   ],
   "source": [
    "# TODO: implement\n",
    "eig_vecs=[]\n",
    "dimension = len(eig_vals)\n",
    "for e in eig_vals:\n",
    "    # m_i = c - lambda * I\n",
    "    m_i = cov_mat - (np.identity(dimension).dot(e))\n",
    "\n",
    "    # qr-Zerlegung\n",
    "    q, r = np.linalg.qr(m_i)\n",
    "    \n",
    "    # rank bestimmen\n",
    "    rank = 0\n",
    "    for i, r_i in enumerate(r):\n",
    "        if np.all(np.isclose(r_i, np.finfo(r.dtype).eps)):\n",
    "            rank = i\n",
    "    \n",
    "    position = len(q[0]) - (dimension - rank)\n",
    "    \n",
    "    eig_vecs.append([q_i[position] for q_i in q])\n",
    "\n",
    "# convert to numpy array\n",
    "eig_vecs = np.asarray(eig_vecs)\n",
    "        \n",
    "\n",
    "print(f'eig_vecs:\\n{eig_vecs}\\n')\n",
    "print(np.linalg.eig(cov_mat))\n"
   ]
  },
  {
   "cell_type": "markdown",
   "metadata": {},
   "source": [
    "# 3 - Auswahl der Hauptkomponenten (Principal Components)"
   ]
  },
  {
   "cell_type": "markdown",
   "metadata": {},
   "source": [
    "## Sortierung der Eigenpaare (Eigenpairs)"
   ]
  },
  {
   "cell_type": "markdown",
   "metadata": {},
   "source": [
    "Das Ziel der PCA ist es, die Dimensionalität des ursprünglichen Merkmalsraums zu reduzieren, indem dieser auf einen kleineren Unterraum projiziert wird, in dem die Eigenvektoren die Achsen bilden. Die Eigenvektoren definieren jedoch nur die Richtungen der neuen Achse, da sie alle die gleiche Einheitslänge 1 haben. Dies kann durch die folgenden beiden Codezeilen bestätigt werden:"
   ]
  },
  {
   "cell_type": "code",
   "execution_count": 10,
   "metadata": {},
   "outputs": [
    {
     "name": "stdout",
     "output_type": "stream",
     "text": [
      "Ok Ok!\n"
     ]
    }
   ],
   "source": [
    "for ev in eig_vecs.T:\n",
    "    np.testing.assert_array_almost_equal(1.0, np.linalg.norm(ev))\n",
    "print('Ok Ok!')"
   ]
  },
  {
   "cell_type": "markdown",
   "metadata": {},
   "source": [
    "Um zu entscheiden, welche/r Eigenvektor/en entfallen kann/können, ohne dass zu viele Informationen für die Konstruktion des niederdimensionalen Unterraums verloren gehen, müssen die entsprechenden Eigenwerte untersucht werden: Die Eigenvektoren mit den niedrigsten Eigenwerten enthalten die geringste Information über die Verteilung der Daten; diese können entfallen. Zu diesem Zweck werden die Eigenwerte von den höchsten zu den niedrigsten geordnet/ sortiert, um die besten k Eigenvektoren auszuwählen.\n",
    "\n",
    "Erzeugen Sie eine Liste von Tupeln, welche die Eigenwerte und Eigenvektoren enthält. Und sortieren Sie diese entsprechend."
   ]
  },
  {
   "cell_type": "code",
   "execution_count": 11,
   "metadata": {},
   "outputs": [
    {
     "name": "stdout",
     "output_type": "stream",
     "text": [
      "[[4.224840768320109\n",
      "  array([ 0.36158968, -0.08226889,  0.85657211,  0.35884393])]\n",
      " [0.24224357162751553\n",
      "  array([-0.65653988, -0.72971237,  0.1757674 ,  0.07470647])]\n",
      " [0.07852390809415455\n",
      "  array([-0.58099728,  0.59641809,  0.07252408,  0.54906091])]\n",
      " [0.023683027126002378\n",
      "  array([ 0.31725455, -0.32409435, -0.47971899,  0.75112056])]]\n",
      "\n",
      "sorted\n",
      "\n",
      "[[4.224840768320109\n",
      "  array([ 0.36158968, -0.08226889,  0.85657211,  0.35884393])]\n",
      " [0.24224357162751553\n",
      "  array([-0.65653988, -0.72971237,  0.1757674 ,  0.07470647])]\n",
      " [0.07852390809415455\n",
      "  array([-0.58099728,  0.59641809,  0.07252408,  0.54906091])]\n",
      " [0.023683027126002378\n",
      "  array([ 0.31725455, -0.32409435, -0.47971899,  0.75112056])]]\n"
     ]
    }
   ],
   "source": [
    "# Make a list of (eigenvalue, eigenvector) tuples\n",
    "# TODO: implement\n",
    "\n",
    "eig_pairs = [(eig_v, eig_vecs[i]) for i, eig_v in enumerate(eig_vals)]\n",
    "\n",
    "#convert into numpy array\n",
    "eig_pairs = np.asarray(eig_pairs)\n",
    "print(eig_pairs)\n",
    "\n",
    "eig_pairs = np.asarray(sorted(eig_pairs, key=lambda pair: pair[0], reverse=True))\n",
    "print('\\nsorted\\n')\n",
    "print(eig_pairs)"
   ]
  },
  {
   "cell_type": "markdown",
   "metadata": {},
   "source": [
    "## Explained Variance"
   ]
  },
  {
   "cell_type": "markdown",
   "metadata": {},
   "source": [
    "Nach der Sortierung der Eigenpaare stellen Sie sich möglicherweise folgende Frage: <i>\"Wie viele Hauptkomponenten werden für den neuen Feature-Unterraum ausgewählt?\"</i> <br>\n",
    "\n",
    "Ein nützliches Maß ist die sogenannte \"explained variance\", die sich aus den Eigenwerten berechnen lässt. Die \"explained variance\" gibt an, wie viel Informationen (Varianz) den einzelnen Hauptkomponenten zugeordnet werden können.\n",
    "\n",
    "Ermitteln Sie die \"explained variance\", indem sie den prozentualen Anteil der einzelnen Eigenwerten aus der Gesamtheit Eigenwerten berechnen."
   ]
  },
  {
   "cell_type": "code",
   "execution_count": 12,
   "metadata": {},
   "outputs": [
    {
     "name": "stdout",
     "output_type": "stream",
     "text": [
      "[0.9246162071742683, 0.0530155678505351, 0.0171851395250068, 0.005183085450190031]\n"
     ]
    }
   ],
   "source": [
    "# TODO: implement\n",
    "explained_var = [(e_v / eig_vals.sum()) for e_v in eig_vals]\n",
    "    \n",
    "print(explained_var)"
   ]
  },
  {
   "cell_type": "markdown",
   "metadata": {},
   "source": [
    "Die Berechnung zeigt deutlich, dass der größte Teil der Varianz (92.46% der Varianz) allein durch die erste Hauptkomponente erklärt werden kann. Die zweite Hauptkomponente enthält noch etwas Informationen (5.30%), während die dritte und vierte Hauptkomponente sicher fallengelassen werden können, ohne zu viele Informationen zu verlieren. Zusammen enthalten die ersten beiden Hauptkomponenten 97.76% der Informationen"
   ]
  },
  {
   "cell_type": "markdown",
   "metadata": {},
   "source": [
    "## Projektionsmatrix W"
   ]
  },
  {
   "cell_type": "markdown",
   "metadata": {},
   "source": [
    "Es folgt die Konstruktion der Projektionsmatrix, mit der die Iris-Daten in den neuen Feature-Unterraum transformiert werden. Die Projektionsmatrix ist im Grunde genommen eine Matrix der konkatenierten Top-k-Eigenvektoren. <br>\n",
    "\n",
    "Es erfolgt eine Reduktion des 4-dimensionalen Merkmalsraum auf einen 2-dimensionalen Merkmalsunterraum, indem die \"Top 2\"-Eigenvektoren mit den höchsten Eigenwerten ausgewählt werden, um die d$\\times$k-dimensionale Projektionsmatrix (auch: Eigenvektormatrix) <b>W</b> zu konstruieren. \n",
    "\n",
    "Erzeugen Sie die Projektionsmatrix <b>W</b> (mit einem shape: (4, 2)) aus den Eigenpairs."
   ]
  },
  {
   "cell_type": "code",
   "execution_count": 13,
   "metadata": {},
   "outputs": [
    {
     "name": "stdout",
     "output_type": "stream",
     "text": [
      "[[ 0.36158968 -0.65653988]\n",
      " [-0.08226889 -0.72971237]\n",
      " [ 0.85657211  0.1757674 ]\n",
      " [ 0.35884393  0.07470647]]\n"
     ]
    }
   ],
   "source": [
    "# TODO: implement\n",
    "matrix_w = np.asarray([e_vec for e_val, e_vec  in eig_pairs[:2]]).T\n",
    "print(matrix_w)"
   ]
  },
  {
   "cell_type": "markdown",
   "metadata": {},
   "source": [
    "# 4 - Projektion in den neuen Feature-Unterraum"
   ]
  },
  {
   "cell_type": "markdown",
   "metadata": {},
   "source": [
    "In diesem letzten Schritt wird die 4$\\times$2-dimensionale Projektionsmatrix W verwendet, um die Daten über die Gleichung auf den neuen Unterraum zu transformieren:\n",
    "\n",
    "$Y=X \\cdot W$ <br>\n",
    "\n",
    "wobei Y eine 150$\\times$2-Matrix der transformierten Daten ist."
   ]
  },
  {
   "cell_type": "code",
   "execution_count": 14,
   "metadata": {
    "scrolled": true
   },
   "outputs": [
    {
     "name": "stdout",
     "output_type": "stream",
     "text": [
      "(150, 2)\n"
     ]
    }
   ],
   "source": [
    "# TODO: implement\n",
    "Y = np.asarray(X).dot(matrix_w)\n",
    "print(Y.shape)"
   ]
  },
  {
   "cell_type": "code",
   "execution_count": 15,
   "metadata": {},
   "outputs": [
    {
     "data": {
      "text/plain": [
       "array([[ 2.82713597, -5.64133105],\n",
       "       [ 2.79595248, -5.14516688],\n",
       "       [ 2.62152356, -5.17737812],\n",
       "       [ 2.7649059 , -5.00359942],\n",
       "       [ 2.78275012, -5.64864829],\n",
       "       [ 3.23144574, -6.06250644],\n",
       "       [ 2.69045242, -5.23261922],\n",
       "       [ 2.8848611 , -5.48512908],\n",
       "       [ 2.62338453, -4.7439257 ],\n",
       "       [ 2.83749841, -5.20803203],\n",
       "       [ 3.00481631, -5.96665874],\n",
       "       [ 2.89820038, -5.33624436],\n",
       "       [ 2.72390912, -5.08698354],\n",
       "       [ 2.28614265, -4.81144382],\n",
       "       [ 2.86779988, -6.50091863],\n",
       "       [ 3.12747377, -6.65947808],\n",
       "       [ 2.88881689, -6.13281341],\n",
       "       [ 2.86302037, -5.6338604 ],\n",
       "       [ 3.31226514, -6.19396782],\n",
       "       [ 2.92399691, -5.83519737],\n",
       "       [ 3.2008114 , -5.71259155],\n",
       "       [ 2.96810819, -5.75475549],\n",
       "       [ 2.2954854 , -5.4563393 ],\n",
       "       [ 3.20821456, -5.42024641],\n",
       "       [ 3.15517201, -5.28351414],\n",
       "       [ 3.00342587, -5.17566739],\n",
       "       [ 3.0422871 , -5.45261105],\n",
       "       [ 2.94895215, -5.68940829],\n",
       "       [ 2.87152183, -5.6340138 ],\n",
       "       [ 2.87849519, -5.1246479 ],\n",
       "       [ 2.92288105, -5.11733065],\n",
       "       [ 3.10126576, -5.73280374],\n",
       "       [ 2.86370642, -6.13470636],\n",
       "       [ 2.91418362, -6.41474566],\n",
       "       [ 2.83749841, -5.20803203],\n",
       "       [ 2.64434325, -5.39191683],\n",
       "       [ 2.88611463, -5.92152374],\n",
       "       [ 2.83749841, -5.20803203],\n",
       "       [ 2.52950043, -4.83447368],\n",
       "       [ 2.92102007, -5.55078307],\n",
       "       [ 2.74120419, -5.58578315],\n",
       "       [ 2.65913202, -4.38185836],\n",
       "       [ 2.51304665, -4.98041616],\n",
       "       [ 3.105829  , -5.51064099],\n",
       "       [ 3.30251014, -5.75741976],\n",
       "       [ 2.79567791, -5.07204225],\n",
       "       [ 2.97376973, -5.82509128],\n",
       "       [ 2.6710218 , -5.09414739],\n",
       "       [ 2.96865734, -5.90100476],\n",
       "       [ 2.80743078, -5.42973458],\n",
       "       [ 6.79613769, -6.00016292],\n",
       "       [ 6.44375385, -5.63392182],\n",
       "       [ 6.97540442, -5.81891356],\n",
       "       [ 5.6923103 , -4.48911979],\n",
       "       [ 6.59847758, -5.39011412],\n",
       "       [ 6.15177985, -4.89740025],\n",
       "       [ 6.60656681, -5.59861494],\n",
       "       [ 4.75987596, -4.31361622],\n",
       "       [ 6.55464088, -5.54368064],\n",
       "       [ 5.50115303, -4.59414886],\n",
       "       [ 5.0002569 , -4.05223178],\n",
       "       [ 6.02244116, -5.21243963],\n",
       "       [ 5.77367885, -4.76683043],\n",
       "       [ 6.49538764, -5.19036331],\n",
       "       [ 5.3364791 , -5.06290816],\n",
       "       [ 6.43891604, -5.78295994],\n",
       "       [ 6.17093589, -4.96274744],\n",
       "       [ 5.74588368, -4.9828019 ],\n",
       "       [ 6.45370481, -4.77290147],\n",
       "       [ 5.5545895 , -4.73323428],\n",
       "       [ 6.62758382, -5.23050972],\n",
       "       [ 5.86812967, -5.2478999 ],\n",
       "       [ 6.80781195, -4.98716221],\n",
       "       [ 6.43184575, -5.13233337],\n",
       "       [ 6.22535131, -5.46510288],\n",
       "       [ 6.41098396, -5.64433471],\n",
       "       [ 6.84238452, -5.55939325],\n",
       "       [ 7.06873937, -5.58211632],\n",
       "       [ 6.32379865, -5.15239216],\n",
       "       [ 5.20400834, -4.94963712],\n",
       "       [ 5.44100021, -4.6121858 ],\n",
       "       [ 5.31945861, -4.63723319],\n",
       "       [ 5.64633805, -5.00301409],\n",
       "       [ 6.89008008, -4.89351859],\n",
       "       [ 6.09861795, -4.83143946],\n",
       "       [ 6.31854859, -5.50977769],\n",
       "       [ 6.73177206, -5.72275907],\n",
       "       [ 6.32421089, -4.94404473],\n",
       "       [ 5.75653826, -5.0479957 ],\n",
       "       [ 5.67585653, -4.63506226],\n",
       "       [ 5.97437409, -4.64519718],\n",
       "       [ 6.40150354, -5.28091129],\n",
       "       [ 5.74022215, -4.91246611],\n",
       "       [ 4.80426181, -4.30629897],\n",
       "       [ 5.86687614, -4.81150524],\n",
       "       [ 5.84247005, -5.10354359],\n",
       "       [ 5.88658133, -5.02310171],\n",
       "       [ 6.15303338, -5.33379491],\n",
       "       [ 4.60287976, -4.56315501],\n",
       "       [ 5.80915101, -4.96770721],\n",
       "       [ 8.04307008, -5.30288149],\n",
       "       [ 6.92541532, -4.73979867],\n",
       "       [ 8.12782771, -5.65665902],\n",
       "       [ 7.48215804, -5.13359804],\n",
       "       [ 7.86110108, -5.27284118],\n",
       "       [ 8.90822302, -5.86189178],\n",
       "       [ 6.03072634, -4.12337204],\n",
       "       [ 8.44334819, -5.66710074],\n",
       "       [ 7.83101589, -5.06917556],\n",
       "       [ 8.42947733, -6.09510436],\n",
       "       [ 7.17327804, -5.55676213],\n",
       "       [ 7.31368355, -5.09856912],\n",
       "       [ 7.67672196, -5.53000401],\n",
       "       [ 6.85593732, -4.53830831],\n",
       "       [ 7.0966104 , -4.77541668],\n",
       "       [ 7.41608668, -5.43354272],\n",
       "       [ 7.46059188, -5.35545399],\n",
       "       [ 9.00010848, -6.48626828],\n",
       "       [ 9.30602996, -5.5679893 ],\n",
       "       [ 6.80967292, -4.55370979],\n",
       "       [ 7.93951036, -5.6915057 ],\n",
       "       [ 6.70944047, -4.70914477],\n",
       "       [ 9.01060858, -5.7714972 ],\n",
       "       [ 6.89901135, -5.11069274],\n",
       "       [ 7.78719675, -5.64811026],\n",
       "       [ 8.12553693, -5.87309068],\n",
       "       [ 6.76896828, -5.13558673],\n",
       "       [ 6.80201275, -5.19829848],\n",
       "       [ 7.63419708, -5.10386885],\n",
       "       [ 7.8989075 , -5.77724298],\n",
       "       [ 8.35230402, -5.68746632],\n",
       "       [ 8.743686  , -6.68524777],\n",
       "       [ 7.67008147, -5.0963982 ],\n",
       "       [ 6.9544457 , -5.17092244],\n",
       "       [ 7.2909832 , -4.81325894],\n",
       "       [ 8.58786472, -6.00048817],\n",
       "       [ 7.65632995, -5.45363034],\n",
       "       [ 7.41620602, -5.36277124],\n",
       "       [ 6.68019657, -5.15022123],\n",
       "       [ 7.61899683, -5.68620598],\n",
       "       [ 7.82564649, -5.49733258],\n",
       "       [ 7.43379398, -5.72399491],\n",
       "       [ 6.92541532, -4.73979867],\n",
       "       [ 8.07466581, -5.59069823],\n",
       "       [ 7.93073432, -5.61822767],\n",
       "       [ 7.45536015, -5.50213895],\n",
       "       [ 7.03700673, -4.93970288],\n",
       "       [ 7.27538903, -5.39324292],\n",
       "       [ 7.41297217, -5.43060048],\n",
       "       [ 6.90100923, -5.03183702]])"
      ]
     },
     "execution_count": 15,
     "metadata": {},
     "output_type": "execute_result"
    }
   ],
   "source": [
    "Y"
   ]
  },
  {
   "cell_type": "markdown",
   "metadata": {},
   "source": [
    "Führen Sie folgenden Code aus und visualisieren Sie das Ergebnis."
   ]
  },
  {
   "cell_type": "code",
   "execution_count": 16,
   "metadata": {},
   "outputs": [
    {
     "data": {
      "image/png": "[encoded data removed]",
      "text/plain": [
       "<Figure size 432x288 with 1 Axes>"
      ]
     },
     "metadata": {},
     "output_type": "display_data"
    }
   ],
   "source": [
    "import matplotlib.pyplot as plt\n",
    "\n",
    "with plt.style.context('seaborn-whitegrid'):\n",
    "    plt.figure(figsize=(6, 4))\n",
    "    for lab, col in zip(('Iris-setosa', 'Iris-versicolor', 'Iris-virginica'),\n",
    "                        ('blue', 'red', 'green')):\n",
    "        plt.scatter(Y[np.where(y==lab), 0],\n",
    "                    Y[np.where(y==lab), 1],\n",
    "                    label=lab,\n",
    "                    c=col)\n",
    "    plt.xlabel('Principal Component 1')\n",
    "    plt.ylabel('Principal Component 2')\n",
    "    plt.legend(loc='lower center')\n",
    "    plt.tight_layout()\n",
    "    plt.show()\n"
   ]
  },
  {
   "cell_type": "markdown",
   "metadata": {},
   "source": [
    "Das Ergebnis sollte wiefolgt aussehen: \n",
    "<img src=\"./Figures/pca_result.png\" alt=\"drawing\" style=\"width:400px;\"/>"
   ]
  },
  {
   "cell_type": "code",
   "execution_count": null,
   "metadata": {},
   "outputs": [],
   "source": []
  }
 ],
 "metadata": {
  "kernelspec": {
   "display_name": "Python 3",
   "language": "python",
   "name": "python3"
  },
  "language_info": {
   "codemirror_mode": {
    "name": "ipython",
    "version": 3
   },
   "file_extension": ".py",
   "mimetype": "text/x-python",
   "name": "python",
   "nbconvert_exporter": "python",
   "pygments_lexer": "ipython3",
   "version": "3.7.7"
  }
 },
 "nbformat": 4,
 "nbformat_minor": 2
}

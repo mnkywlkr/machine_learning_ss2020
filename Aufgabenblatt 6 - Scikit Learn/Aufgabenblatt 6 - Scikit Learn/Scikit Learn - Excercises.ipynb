{
 "cells": [
  {
   "cell_type": "markdown",
   "metadata": {},
   "source": [
    "# Scikit Learn\n",
    "In den bisherigen Aufgaben lag der Fokus darauf Verfahren des überwachten Lernens durch eigene Implementierungen im Detail zu verstehen. In dieser Aufgabe soll der Fokus stärker auf die zielgerichtete Anwendung aktueller State of the Art Verfahren und deren Evalution liegen. Konkret bedeutet dies, Sie sollen nun unter Zuhilfenahme beliebiger Bibliotheken ein möglichst gutes Resultat für den Titanic Datensatz erzielen. Dabei werden Sie nicht nur verschiedene Verfahren ausprobieren müssen, sondern auch die Merkmalsauswahl und Vorverarbeitung stärker in den Fokus rücken."
   ]
  },
  {
   "cell_type": "markdown",
   "metadata": {
    "collapsed": true
   },
   "source": [
    "## Vorbereitungen"
   ]
  },
  {
   "cell_type": "code",
   "execution_count": 1,
   "metadata": {},
   "outputs": [],
   "source": [
    "import numpy as np\n",
    "import csv as csv\n",
    "import matplotlib.pyplot as plt\n",
    "import pandas as pd\n",
    "from math import log\n",
    "%matplotlib inline\n",
    "\n",
    "# import data file\n",
    "df = None"
   ]
  },
  {
   "cell_type": "code",
   "execution_count": 2,
   "metadata": {},
   "outputs": [],
   "source": [
    "def prepareData(df):\n",
    "    #fill missing values\n",
    "    return 42\n",
    "df = prepareData(df)"
   ]
  },
  {
   "cell_type": "markdown",
   "metadata": {},
   "source": [
    "## Erste Versuche mit Scikit-Learn\n",
    "Scikit-Learn (http://scikit-learn.org) ist eine der umfangreichsten ML-Bibliotheken im Python-Ökosystem. Sie beinhaltet Implementierungen für die gängigsten Verfahren im überwachten bzw. unüberwachten Lernen. Des weiteren beinhaltet Scikit-Learn diverse Werkzeuge zur Visualisierung und Evaluation von ML-Algorithem. Der Umfang, aber vorallem auch die durchweg vernünftige Dokumentation (http://scikit-learn.org/stable/documentation.html) machen das Scikit-Learn Paket zum Standard für ML-Bibliotheken im Python Umfeld."
   ]
  },
  {
   "cell_type": "markdown",
   "metadata": {},
   "source": [
    "## Aufgabe\n",
    "\n",
    "- **Merkmalsvorverarbeitung:** <br>\n",
    "Werfen Sie nochmals einen gründlichen Blick auf die Daten und Überlegen Sie sich wo noch ungenutzte Information versteckt ist. Führen Sie gegebenfalls neue Merkmale ein, transformieren Sie vorhandene, entscheiden Sie welche Merkmale überhaupt relevant sind! Nebst der Standardisierung. Tipp: Visualisieren Sie ihre Merkmalsräume!\n",
    "\n",
    "- **Klassifikation:**  <br>\n",
    "Evaluieren Sie verschiedene Klassifikatoren wie z.B. Support-Vector-Maschinen, Random-Forests, k Nearest Neighbours, Multilayer Perceptrons etc. Beachten Sie, dass je nach Eigenart des Klassifikators auch eine andere Merkmalsrepräsentation von Vorteil ist. \n",
    "\n",
    "- **Evaluation mit Cross-Validation:** <br>\n",
    "Evaluieren Sie Ihre Modelle mit dem bereits bekannten Verfahren des Cross Validation. Gerne können Sie hierfür die Scikit-Learn Implementierung verwenden.\n",
    "\n",
    "- **Hyperparameter-Optimierung:** <br>\n",
    "Wählen Sie für Ihre Modelle geeignete Hyperparameter. Den Raum der optimalen Hyperparameter können Sie via RandomizedSearchCV oder GridSearchCV abtasten.\n",
    "\n",
    "Versuchen Sie mit allen Ihnen zur Verfügung stehenden Mitteln eine möglichst genaue Prädiktion für den Titanic-Datensatz zu erzielen. "
   ]
  }
 ],
 "metadata": {
  "kernelspec": {
   "display_name": "Python 3",
   "language": "python",
   "name": "python3"
  },
  "language_info": {
   "codemirror_mode": {
    "name": "ipython",
    "version": 3
   },
   "file_extension": ".py",
   "mimetype": "text/x-python",
   "name": "python",
   "nbconvert_exporter": "python",
   "pygments_lexer": "ipython3",
   "version": "3.5.2"
  }
 },
 "nbformat": 4,
 "nbformat_minor": 1
}
